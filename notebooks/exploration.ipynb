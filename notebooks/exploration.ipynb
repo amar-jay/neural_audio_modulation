{
 "cells": [
  {
   "cell_type": "markdown",
   "metadata": {},
   "source": [
    "# Exploration Notebook\n",
    "\n",
    "This notebook is used for exploratory data analysis and experimentation with the audio dataset. It includes sections for loading data, visualizing audio signals, and testing model components."
   ]
  },
  {
   "cell_type": "code",
   "execution_count": null,
   "metadata": {
    "collapsed": false
   },
   "outputs": [],
   "source": [
    "# Import necessary libraries\n",
    "import os\n",
    "import numpy as np\n",
    "import pandas as pd\n",
    "import torchaudio\n",
    "import matplotlib.pyplot as plt\n",
    "from src.data.dataset import AudioDataset\n",
    "from src.utils.visualization import plot_waveform, plot_spectrogram\n",
    "\n",
    "# Set up paths\n",
    "DATA_DIR = \"path/to/your/data\"\n",
    "\n",
    "# Load dataset\n",
    "dataset = AudioDataset(DATA_DIR)\n",
    "\n",
    "# Explore the dataset\n",
    "print(f\"Total samples: {len(dataset)}\")\n",
    "print(f\"Example sample: {dataset[0]}\")\n",
    "\n",
    "# Visualize an audio sample\n",
    "sample_rate, audio_data = dataset[0]\n",
    "plot_waveform(audio_data, sample_rate)\n",
    "plt.title(\"Waveform of Sample 0\")\n",
    "plt.show()\n",
    "\n",
    "# Visualize the spectrogram\n",
    "plot_spectrogram(audio_data, sample_rate)\n",
    "plt.title(\"Spectrogram of Sample 0\")\n",
    "plt.show()"
   ]
  }
 ],
 "metadata": {
  "kernelspec": {
   "display_name": "Python 3",
   "language": "python",
   "name": "python3"
  },
  "language_info": {
   "codemirror_mode": {
    "name": "ipython",
    "version": 3
   },
   "file_extension": ".py",
   "mimetype": "text/x-python",
   "name": "python",
   "nbconvert_exporter": "python",
   "pygments_lexer": "ipython3",
   "version": "3.8.5"
  }
 },
 "nbformat": 4,
 "nbformat_minor": 4
}